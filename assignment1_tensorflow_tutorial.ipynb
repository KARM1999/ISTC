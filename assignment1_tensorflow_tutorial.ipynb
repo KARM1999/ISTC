{
 "cells": [
  {
   "cell_type": "markdown",
   "metadata": {},
   "source": [
    "# MNIST master\n",
    "\n",
    "For a demo we shall solve the same digit recognition problem, but at a different scale\n",
    "* images are now 28x28\n",
    "* 10 different digits\n",
    "* 50k samples"
   ]
  },
  {
   "cell_type": "markdown",
   "metadata": {},
   "source": [
    "Before doing this homework, read some code examples written in tensorflow. There is a good repository with code examples: https://github.com/aymericdamien/TensorFlow-Examples. As we already know, we need many samples to learn :)"
   ]
  },
  {
   "cell_type": "code",
   "execution_count": 1,
   "metadata": {},
   "outputs": [],
   "source": [
    "import numpy as np\n",
    "import matplotlib.pyplot as plt\n",
    "%matplotlib inline"
   ]
  },
  {
   "cell_type": "code",
   "execution_count": 2,
   "metadata": {},
   "outputs": [],
   "source": [
    "import tensorflow as tf"
   ]
  },
  {
   "cell_type": "code",
   "execution_count": 3,
   "metadata": {},
   "outputs": [
    {
     "name": "stdout",
     "output_type": "stream",
     "text": [
      "(50000, 1, 28, 28) (50000,)\n"
     ]
    }
   ],
   "source": [
    "from mnist import load_dataset\n",
    "X_train,y_train,X_val,y_val,X_test,y_test = load_dataset()\n",
    "\n",
    "print(X_train.shape,y_train.shape)"
   ]
  },
  {
   "cell_type": "code",
   "execution_count": 4,
   "metadata": {},
   "outputs": [],
   "source": [
    "# def add_noise(X):\n",
    "#     return X*np.random.normal(0.6, 0.4, X.shape)\n",
    "\n",
    "# X_train = np.append(X_train, add_noise(X_train), axis = 0)\n",
    "# y_train = np.append(y_train, y_train, axis = 0)\n",
    "\n",
    "# X_train = np.append(X_train, add_noise(X_train), axis = 0)\n",
    "# y_train = np.append(y_train, y_train, axis = 0)"
   ]
  },
  {
   "cell_type": "code",
   "execution_count": 5,
   "metadata": {},
   "outputs": [],
   "source": [
    "# print(X_train.shape,y_train.shape)\n",
    "# plt.imshow(-X_train[151115, 0], cmap=\"jet\")\n",
    "# y_train[151115]"
   ]
  },
  {
   "cell_type": "code",
   "execution_count": 26,
   "metadata": {},
   "outputs": [],
   "source": [
    "#defining placeholders for input and target\n"
   ]
  },
  {
   "cell_type": "markdown",
   "metadata": {},
   "source": [
    "Defining network architecture"
   ]
  },
  {
   "cell_type": "code",
   "execution_count": 83,
   "metadata": {},
   "outputs": [
    {
     "data": {
      "text/plain": [
       "[<tf.Variable 'cv1_0/kernel:0' shape=(5, 5, 28, 128) dtype=float32_ref>,\n",
       " <tf.Variable 'cv1_0/bias:0' shape=(128,) dtype=float32_ref>,\n",
       " <tf.Variable 'cv1_1/kernel:0' shape=(5, 5, 128, 128) dtype=float32_ref>,\n",
       " <tf.Variable 'cv1_1/bias:0' shape=(128,) dtype=float32_ref>,\n",
       " <tf.Variable 'cv2_0/kernel:0' shape=(3, 3, 128, 256) dtype=float32_ref>,\n",
       " <tf.Variable 'cv2_0/bias:0' shape=(256,) dtype=float32_ref>,\n",
       " <tf.Variable 'cv2_1/kernel:0' shape=(3, 3, 256, 256) dtype=float32_ref>,\n",
       " <tf.Variable 'cv2_1/bias:0' shape=(256,) dtype=float32_ref>,\n",
       " <tf.Variable 'l1/kernel:0' shape=(1792, 512) dtype=float32_ref>,\n",
       " <tf.Variable 'l1/bias:0' shape=(512,) dtype=float32_ref>,\n",
       " <tf.Variable 'l2/kernel:0' shape=(512, 256) dtype=float32_ref>,\n",
       " <tf.Variable 'l2/bias:0' shape=(256,) dtype=float32_ref>,\n",
       " <tf.Variable 'l3/kernel:0' shape=(256, 128) dtype=float32_ref>,\n",
       " <tf.Variable 'l3/bias:0' shape=(128,) dtype=float32_ref>,\n",
       " <tf.Variable 'l4/kernel:0' shape=(128, 32) dtype=float32_ref>,\n",
       " <tf.Variable 'l4/bias:0' shape=(32,) dtype=float32_ref>,\n",
       " <tf.Variable 'l5/kernel:0' shape=(32, 10) dtype=float32_ref>,\n",
       " <tf.Variable 'l5/bias:0' shape=(10,) dtype=float32_ref>]"
      ]
     },
     "execution_count": 83,
     "metadata": {},
     "output_type": "execute_result"
    }
   ],
   "source": [
    "# flatten images to (batch_size x 728) matrix\n",
    "# input_X_reshaped = tf.reshape(input_X, shape=[-1, 1*28*28], name=\"reshape_X\")\n",
    "\n",
    "# Fully connected layer, that takes input layer and applies 50 neurons \n",
    "# to it. Nonlinearity here is sigmoid as in logistic regression.\n",
    "# You can give a name to each layer (optional)\n",
    "tf.reset_default_graph()\n",
    "input_X = tf.placeholder(tf.float32, shape=[None, 1, 28, 28], \n",
    "                         name=\"X\")\n",
    "target_y = tf.placeholder(tf.int32, shape=[None], \n",
    "                          name=\"target_Y_integer\")\n",
    "\n",
    "\n",
    "cv1_0 = tf.layers.conv2d(input_X, filters=128, kernel_size=(5, 5), strides=1, padding='same', activation=tf.nn.relu, name='cv1_0')\n",
    "cv1_1 = tf.layers.conv2d(cv1_0,   filters=128, kernel_size=(5, 5), strides=1, padding='same', activation=tf.nn.relu, name='cv1_1')\n",
    "mp1 = tf.layers.max_pooling2d(cv1_1, (2, 2), strides=2, padding='same', name='mp1')\n",
    "\n",
    "cv2_0 = tf.layers.conv2d(mp1,     filters=256, kernel_size=(3, 3), strides=1, padding='same', activation=tf.nn.relu, name='cv2_0')\n",
    "cv2_1 = tf.layers.conv2d(cv2_0,   filters=256, kernel_size=(3, 3), strides=1, padding='same', activation=tf.nn.relu, name='cv2_1')\n",
    "mp2 = tf.layers.max_pooling2d(cv2_1, (2, 2), strides=2, padding='same', name='mp2')\n",
    "\n",
    "\n",
    "# cv3_0 = tf.layers.conv2d(mp2,     filters=256, kernel_size=(3, 3), strides=1, padding='same', activation=tf.nn.relu, name='cv3_0')\n",
    "# cv3_1 = tf.layers.conv2d(cv3_0,   filters=256, kernel_size=(3, 3), strides=1, padding='same', activation=tf.nn.relu, name='cv3_1')\n",
    "# mp3 = tf.layers.max_pooling2d(cv3_1, (2, 2), strides=2, padding='same', name='mp3')\n",
    "\n",
    "f  = tf.layers.flatten(mp2, name='flatten')\n",
    "\n",
    "l1 = tf.layers.dense(f , units=512, activation=tf.nn.relu, name='l1', kernel_regularizer=tf.nn.l2_normalize)\n",
    "\n",
    "l2 = tf.layers.dense(l1 , units=256, activation=tf.nn.relu, name='l2', kernel_regularizer=tf.nn.l2_normalize)\n",
    "\n",
    "l3 = tf.layers.dense(l2 , units=128, activation=tf.nn.relu, name='l3', kernel_regularizer=tf.nn.l2_normalize)\n",
    "\n",
    "l4 = tf.layers.dense(l3 , units=32, activation=tf.nn.relu, name='l4', kernel_regularizer=tf.nn.l2_normalize)\n",
    "\n",
    "l5 = tf.layers.dense(l4 , units=10, activation=None, name='l5')\n",
    "\n",
    "# We use softmax nonlinearity to make probabilities add up to 1\n",
    "l_out = tf.nn.softmax(l5, name='l_out')\n",
    "\n",
    "# Prediction\n",
    "y_predicted = tf.argmax(l5, axis=-1)\n",
    "\n",
    "weights = tf.trainable_variables()\n",
    "weights"
   ]
  },
  {
   "cell_type": "markdown",
   "metadata": {},
   "source": [
    "### Than you could simply\n",
    "* define loss function manually\n",
    "* compute error gradient over all weights\n",
    "* define updates\n",
    "* But that's a whole lot of work and life's short\n",
    "  * not to mention life's too short to wait for SGD to converge\n",
    "\n",
    "Instead, we shall use Tensorflow builtins"
   ]
  },
  {
   "cell_type": "code",
   "execution_count": 84,
   "metadata": {},
   "outputs": [],
   "source": [
    "# Mean categorical crossentropy as a loss function\n",
    "# - similar to logistic loss but for multiclass targets\n",
    "loss = tf.reduce_mean(tf.nn.sparse_softmax_cross_entropy_with_logits(\n",
    "    labels=target_y, logits=l5, name=\"softmax_loss\"))"
   ]
  },
  {
   "cell_type": "code",
   "execution_count": 85,
   "metadata": {},
   "outputs": [],
   "source": [
    "accuracy, update_accuracy = tf.metrics.accuracy(target_y, y_predicted)\n",
    "# tf.local_variables()"
   ]
  },
  {
   "cell_type": "code",
   "execution_count": 86,
   "metadata": {},
   "outputs": [],
   "source": [
    "optimzer = tf.train.AdamOptimizer()\n",
    "train_step = optimzer.minimize(loss)"
   ]
  },
  {
   "cell_type": "markdown",
   "metadata": {},
   "source": [
    "### That's all, now let's train it!\n",
    "* We got a lot of data, so it's recommended that you use SGD\n",
    "* So let's implement a function that splits the training sample into minibatches"
   ]
  },
  {
   "cell_type": "code",
   "execution_count": 87,
   "metadata": {},
   "outputs": [],
   "source": [
    "# An auxilary function that returns mini-batches for neural network training\n",
    "\n",
    "#Parameters\n",
    "# inputs - a tensor of images with shape (many, 1, 28, 28), e.g. X_train\n",
    "# outputs - a vector of answers for corresponding images e.g. Y_train\n",
    "#batch_size - a single number - the intended size of each batches\n",
    "\n",
    "def iterate_minibatches(inputs, targets, batchsize):\n",
    "    assert len(inputs) == len(targets)\n",
    "    indices = np.arange(len(inputs))\n",
    "    np.random.shuffle(indices)\n",
    "    for start_idx in range(0, len(inputs) - batchsize + 1, batchsize):\n",
    "        excerpt = indices[start_idx:start_idx + batchsize]\n",
    "        yield inputs[excerpt], targets[excerpt]"
   ]
  },
  {
   "cell_type": "markdown",
   "metadata": {},
   "source": [
    "# Training loop"
   ]
  },
  {
   "cell_type": "markdown",
   "metadata": {},
   "source": [
    "Model saver.\n",
    "<br>\n",
    "See more:\n",
    "http://cv-tricks.com/tensorflow-tutorial/save-restore-tensorflow-models-quick-complete-tutorial/"
   ]
  },
  {
   "cell_type": "code",
   "execution_count": 88,
   "metadata": {},
   "outputs": [],
   "source": [
    "model_path = \"./checkpoints/model.ckpt\"\n",
    "saver = tf.train.Saver(max_to_keep=3)"
   ]
  },
  {
   "cell_type": "code",
   "execution_count": 89,
   "metadata": {
    "scrolled": false
   },
   "outputs": [
    {
     "name": "stdout",
     "output_type": "stream",
     "text": [
      "100\n",
      "200\n",
      "300\n",
      "400\n",
      "500\n",
      "Epoch 1 of 25 took 174.551s\n",
      "  training loss (in-iteration):\t\t0.292077\n",
      "  train accuracy:\t\t90.68 %\n",
      "  validation accuracy:\t\t97.00 %\n",
      "  Model saved in file: ./checkpoints/model.ckpt-0\n",
      "100\n",
      "200\n",
      "300\n",
      "400\n",
      "500\n",
      "Epoch 2 of 25 took 174.097s\n",
      "  training loss (in-iteration):\t\t0.081920\n",
      "  train accuracy:\t\t97.53 %\n",
      "  validation accuracy:\t\t98.07 %\n",
      "  Model saved in file: ./checkpoints/model.ckpt-1\n",
      "100\n",
      "200\n",
      "300\n",
      "400\n",
      "500\n",
      "Epoch 3 of 25 took 175.578s\n",
      "  training loss (in-iteration):\t\t0.059325\n",
      "  train accuracy:\t\t98.26 %\n",
      "  validation accuracy:\t\t97.91 %\n",
      "  Model saved in file: ./checkpoints/model.ckpt-2\n",
      "100\n",
      "200\n",
      "300\n",
      "400\n",
      "Epoch 4 of 25 took 173.715s\n",
      "  training loss (in-iteration):\t\t0.051032\n",
      "  train accuracy:\t\t98.44 %\n",
      "  validation accuracy:\t\t98.46 %\n",
      "  Model saved in file: ./checkpoints/model.ckpt-3\n",
      "100\n",
      "200\n",
      "300\n",
      "400\n",
      "Epoch 5 of 25 took 171.915s\n",
      "  training loss (in-iteration):\t\t0.037823\n",
      "  train accuracy:\t\t98.91 %\n",
      "  validation accuracy:\t\t98.39 %\n",
      "  Model saved in file: ./checkpoints/model.ckpt-4\n",
      "100\n",
      "200\n",
      "300\n",
      "400\n",
      "Epoch 6 of 25 took 167.476s\n",
      "  training loss (in-iteration):\t\t0.033039\n",
      "  train accuracy:\t\t99.04 %\n",
      "  validation accuracy:\t\t98.71 %\n",
      "  Model saved in file: ./checkpoints/model.ckpt-5\n",
      "100\n",
      "200\n",
      "300\n",
      "400\n",
      "Epoch 7 of 25 took 167.641s\n",
      "  training loss (in-iteration):\t\t0.029312\n",
      "  train accuracy:\t\t99.09 %\n",
      "  validation accuracy:\t\t98.70 %\n",
      "  Model saved in file: ./checkpoints/model.ckpt-6\n",
      "100\n",
      "200\n",
      "300\n",
      "400\n",
      "Epoch 8 of 25 took 167.629s\n",
      "  training loss (in-iteration):\t\t0.022560\n",
      "  train accuracy:\t\t99.32 %\n",
      "  validation accuracy:\t\t98.55 %\n",
      "  Model saved in file: ./checkpoints/model.ckpt-7\n",
      "100\n",
      "200\n",
      "300\n",
      "400\n",
      "Epoch 9 of 25 took 168.043s\n",
      "  training loss (in-iteration):\t\t0.023493\n",
      "  train accuracy:\t\t99.31 %\n",
      "  validation accuracy:\t\t98.61 %\n",
      "  Model saved in file: ./checkpoints/model.ckpt-8\n",
      "100\n",
      "200\n",
      "300\n",
      "400\n",
      "Epoch 10 of 25 took 179.502s\n",
      "  training loss (in-iteration):\t\t0.018584\n",
      "  train accuracy:\t\t99.46 %\n",
      "  validation accuracy:\t\t98.83 %\n",
      "  Model saved in file: ./checkpoints/model.ckpt-9\n",
      "100\n",
      "200\n",
      "300\n",
      "Epoch 11 of 25 took 166.195s\n",
      "  training loss (in-iteration):\t\t0.014777\n",
      "  train accuracy:\t\t99.57 %\n",
      "  validation accuracy:\t\t98.95 %\n",
      "  Model saved in file: ./checkpoints/model.ckpt-10\n",
      "100\n",
      "200\n",
      "300\n",
      "Epoch 12 of 25 took 184.017s\n",
      "  training loss (in-iteration):\t\t0.016006\n",
      "  train accuracy:\t\t99.51 %\n",
      "  validation accuracy:\t\t98.83 %\n",
      "  Model saved in file: ./checkpoints/model.ckpt-11\n",
      "100\n",
      "200\n",
      "300\n",
      "Epoch 13 of 25 took 202.583s\n",
      "  training loss (in-iteration):\t\t0.012960\n",
      "  train accuracy:\t\t99.61 %\n",
      "  validation accuracy:\t\t99.11 %\n",
      "  Model saved in file: ./checkpoints/model.ckpt-12\n",
      "100\n",
      "200\n",
      "300\n",
      "Epoch 14 of 25 took 203.026s\n",
      "  training loss (in-iteration):\t\t0.012260\n",
      "  train accuracy:\t\t99.67 %\n",
      "  validation accuracy:\t\t99.10 %\n",
      "  Model saved in file: ./checkpoints/model.ckpt-13\n",
      "100\n",
      "200\n",
      "300\n",
      "Epoch 15 of 25 took 200.030s\n",
      "  training loss (in-iteration):\t\t0.008441\n",
      "  train accuracy:\t\t99.75 %\n",
      "  validation accuracy:\t\t98.95 %\n",
      "  Model saved in file: ./checkpoints/model.ckpt-14\n",
      "100\n",
      "200\n",
      "Epoch 16 of 25 took 209.530s\n",
      "  training loss (in-iteration):\t\t0.011704\n",
      "  train accuracy:\t\t99.66 %\n",
      "  validation accuracy:\t\t98.63 %\n",
      "  Model saved in file: ./checkpoints/model.ckpt-15\n",
      "100\n",
      "200\n",
      "Epoch 17 of 25 took 210.266s\n",
      "  training loss (in-iteration):\t\t0.006997\n",
      "  train accuracy:\t\t99.78 %\n",
      "  validation accuracy:\t\t98.83 %\n",
      "  Model saved in file: ./checkpoints/model.ckpt-16\n",
      "100\n",
      "200\n",
      "Epoch 18 of 25 took 178.585s\n",
      "  training loss (in-iteration):\t\t0.006205\n",
      "  train accuracy:\t\t99.82 %\n",
      "  validation accuracy:\t\t98.94 %\n",
      "  Model saved in file: ./checkpoints/model.ckpt-17\n",
      "100\n",
      "200\n",
      "Epoch 19 of 25 took 173.531s\n",
      "  training loss (in-iteration):\t\t0.004534\n",
      "  train accuracy:\t\t99.86 %\n",
      "  validation accuracy:\t\t99.15 %\n",
      "  Model saved in file: ./checkpoints/model.ckpt-18\n",
      "100\n",
      "200\n",
      "Epoch 20 of 25 took 173.380s\n",
      "  training loss (in-iteration):\t\t0.003942\n",
      "  train accuracy:\t\t99.89 %\n",
      "  validation accuracy:\t\t98.95 %\n",
      "  Model saved in file: ./checkpoints/model.ckpt-19\n",
      "100\n",
      "200\n",
      "Epoch 21 of 25 took 172.346s\n",
      "  training loss (in-iteration):\t\t0.005741\n",
      "  train accuracy:\t\t99.85 %\n",
      "  validation accuracy:\t\t99.02 %\n",
      "  Model saved in file: ./checkpoints/model.ckpt-20\n",
      "100\n",
      "200\n",
      "Epoch 22 of 25 took 196.006s\n",
      "  training loss (in-iteration):\t\t0.004958\n",
      "  train accuracy:\t\t99.85 %\n",
      "  validation accuracy:\t\t98.77 %\n",
      "  Model saved in file: ./checkpoints/model.ckpt-21\n",
      "100\n",
      "Epoch 23 of 25 took 206.141s\n",
      "  training loss (in-iteration):\t\t0.007263\n",
      "  train accuracy:\t\t99.79 %\n",
      "  validation accuracy:\t\t98.95 %\n",
      "  Model saved in file: ./checkpoints/model.ckpt-22\n",
      "100\n",
      "Epoch 24 of 25 took 175.708s\n",
      "  training loss (in-iteration):\t\t0.002538\n",
      "  train accuracy:\t\t99.94 %\n",
      "  validation accuracy:\t\t98.98 %\n",
      "  Model saved in file: ./checkpoints/model.ckpt-23\n",
      "100\n",
      "Epoch 25 of 25 took 175.896s\n",
      "  training loss (in-iteration):\t\t0.001316\n",
      "  train accuracy:\t\t99.96 %\n",
      "  validation accuracy:\t\t99.16 %\n",
      "  Model saved in file: ./checkpoints/model.ckpt-24\n"
     ]
    }
   ],
   "source": [
    "import time\n",
    "\n",
    "num_epochs = 25 # amount of passes through the data\n",
    "\n",
    "batch_size = 100 # number of samples processed at each function call\n",
    "\n",
    "with tf.Session() as sess:\n",
    "    # initialize global wariables\n",
    "    sess.run(tf.global_variables_initializer())\n",
    "    \n",
    "    for epoch in range(num_epochs):\n",
    "        # In each epoch, we do a full pass over the training data:\n",
    "        train_err = 0\n",
    "        train_batches = 0\n",
    "        start_time = time.time()\n",
    "\n",
    "        sess.run(tf.local_variables_initializer())\n",
    "        for batch in iterate_minibatches(X_train, y_train, batch_size):\n",
    "            inputs, targets = batch\n",
    "\n",
    "            _, train_err_batch, _ = sess.run(\n",
    "                [train_step, loss, update_accuracy], \n",
    "                feed_dict={input_X: inputs, target_y:targets}\n",
    "            )\n",
    "            train_err += train_err_batch\n",
    "            train_batches += 1\n",
    "            if train_batches%100 == 0:\n",
    "                print(train_batches)\n",
    "            time.sleep(0.002)\n",
    "        train_acc = sess.run(accuracy)\n",
    "\n",
    "        # And a full pass over the validation data:\n",
    "        sess.run(tf.local_variables_initializer())\n",
    "        for batch in iterate_minibatches(X_val, y_val, batch_size):\n",
    "            inputs, targets = batch\n",
    "            sess.run(update_accuracy, feed_dict={input_X: inputs, \n",
    "                                                 target_y:targets})\n",
    "        val_acc = sess.run(accuracy)\n",
    "\n",
    "\n",
    "        # Then we print the results for this epoch:\n",
    "        print(\"Epoch {} of {} took {:.3f}s\".format(epoch + 1, num_epochs, time.time() - start_time))\n",
    "\n",
    "        print(\"  training loss (in-iteration):\\t\\t{:.6f}\".format(train_err / train_batches))\n",
    "        print(\"  train accuracy:\\t\\t{:.2f} %\".format(train_acc * 100))\n",
    "        print(\"  validation accuracy:\\t\\t{:.2f} %\".format(val_acc * 100))\n",
    "        \n",
    "        # save model\n",
    "        save_path = saver.save(sess, model_path, global_step=epoch)\n",
    "        print(\"  Model saved in file: %s\" % save_path)\n",
    "        \n",
    "        batch_size += (epoch*3)//4\n",
    "        batch_size = min(batch_size, 1000)\n",
    "        \n",
    "        if val_acc > 0.995:\n",
    "            break\n",
    "        time.sleep(5)"
   ]
  },
  {
   "cell_type": "markdown",
   "metadata": {},
   "source": [
    "Now we can restore saved parameters:"
   ]
  },
  {
   "cell_type": "code",
   "execution_count": 90,
   "metadata": {},
   "outputs": [
    {
     "name": "stdout",
     "output_type": "stream",
     "text": [
      "INFO:tensorflow:Restoring parameters from ./checkpoints/model.ckpt-24\n",
      "Model restored from file: ./checkpoints/model.ckpt-24\n",
      "Final results:\n",
      "  test accuracy:\t\t99.13 %\n",
      "We need more magic!\n"
     ]
    }
   ],
   "source": [
    "with tf.Session() as sess:\n",
    "    sess.run(tf.global_variables_initializer())\n",
    "    load_path = saver.restore(sess, saver.last_checkpoints[-1])\n",
    "    print(\"Model restored from file: %s\" % save_path)\n",
    "    \n",
    "    sess.run(tf.local_variables_initializer())\n",
    "    for batch in iterate_minibatches(X_test, y_test, 500):\n",
    "        inputs, targets = batch\n",
    "        sess.run(update_accuracy, feed_dict={input_X: inputs, \n",
    "                                                   target_y:targets})\n",
    "    test_acc = sess.run(accuracy)\n",
    "    print(\"Final results:\")\n",
    "    print(\"  test accuracy:\\t\\t{:.2f} %\".format(\n",
    "        test_acc* 100))\n",
    "\n",
    "    if test_acc * 100 > 99.5:\n",
    "        print (\"Achievement unlocked: 80lvl Warlock!\")\n",
    "    else:\n",
    "        print (\"We need more magic!\")"
   ]
  },
  {
   "cell_type": "markdown",
   "metadata": {
    "collapsed": true
   },
   "source": [
    "# Now improve it!\n",
    "\n",
    "* Moar layers!\n",
    "* Moar units!\n",
    "* Different nonlinearities!"
   ]
  }
 ],
 "metadata": {
  "kernelspec": {
   "display_name": "Python 3",
   "language": "python",
   "name": "python3"
  },
  "language_info": {
   "codemirror_mode": {
    "name": "ipython",
    "version": 3
   },
   "file_extension": ".py",
   "mimetype": "text/x-python",
   "name": "python",
   "nbconvert_exporter": "python",
   "pygments_lexer": "ipython3",
   "version": "3.6.5"
  }
 },
 "nbformat": 4,
 "nbformat_minor": 1
}
