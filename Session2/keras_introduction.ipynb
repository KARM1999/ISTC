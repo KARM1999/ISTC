{
 "cells": [
  {
   "cell_type": "markdown",
   "metadata": {},
   "source": [
    "# [Keras](https://keras.io/)"
   ]
  },
  {
   "cell_type": "code",
   "execution_count": 1,
   "metadata": {},
   "outputs": [
    {
     "name": "stderr",
     "output_type": "stream",
     "text": [
      "Using TensorFlow backend.\n"
     ]
    }
   ],
   "source": [
    "import keras"
   ]
  },
  {
   "cell_type": "markdown",
   "metadata": {},
   "source": [
    "### Layers"
   ]
  },
  {
   "cell_type": "markdown",
   "metadata": {},
   "source": [
    "`keras.layers.*`"
   ]
  },
  {
   "cell_type": "code",
   "execution_count": 7,
   "metadata": {},
   "outputs": [
    {
     "name": "stdout",
     "output_type": "stream",
     "text": [
      "Activation\n",
      "ActivityRegularization\n",
      "Add\n",
      "AlphaDropout\n",
      "AtrousConv1D\n",
      "AtrousConv2D\n",
      "AtrousConvolution1D\n",
      "AtrousConvolution2D\n",
      "Average\n",
      "AveragePooling1D\n",
      "AveragePooling2D\n",
      "AveragePooling3D\n",
      "AvgPool1D\n",
      "AvgPool2D\n",
      "AvgPool3D\n",
      "BatchNormalization\n",
      "Bidirectional\n",
      "Concatenate\n",
      "Conv1D\n",
      "Conv2D\n",
      "Conv2DTranspose\n",
      "Conv3D\n",
      "Conv3DTranspose\n",
      "ConvLSTM2D\n",
      "ConvLSTM2DCell\n",
      "ConvRNN2D\n",
      "ConvRecurrent2D\n",
      "Convolution1D\n",
      "Convolution2D\n",
      "Convolution2DTranspose\n",
      "Convolution3D\n",
      "Cropping1D\n",
      "Cropping2D\n",
      "Cropping3D\n",
      "CuDNNGRU\n",
      "CuDNNLSTM\n",
      "Deconv2D\n",
      "Deconv3D\n",
      "Deconvolution2D\n",
      "Deconvolution3D\n",
      "Dense\n",
      "DepthwiseConv2D\n",
      "Dot\n",
      "Dropout\n",
      "ELU\n",
      "Embedding\n",
      "Flatten\n",
      "GRU\n",
      "GRUCell\n",
      "GaussianDropout\n",
      "GaussianNoise\n",
      "GlobalAveragePooling1D\n",
      "GlobalAveragePooling2D\n",
      "GlobalAveragePooling3D\n",
      "GlobalAvgPool1D\n",
      "GlobalAvgPool2D\n",
      "GlobalAvgPool3D\n",
      "GlobalMaxPool1D\n",
      "GlobalMaxPool2D\n",
      "GlobalMaxPool3D\n",
      "GlobalMaxPooling1D\n",
      "GlobalMaxPooling2D\n",
      "GlobalMaxPooling3D\n",
      "Highway\n",
      "Input\n",
      "InputLayer\n",
      "InputSpec\n",
      "K\n",
      "LSTM\n",
      "LSTMCell\n",
      "Lambda\n",
      "Layer\n",
      "LeakyReLU\n",
      "LocallyConnected1D\n",
      "LocallyConnected2D\n",
      "Masking\n",
      "MaxPool1D\n",
      "MaxPool2D\n",
      "MaxPool3D\n",
      "MaxPooling1D\n",
      "MaxPooling2D\n",
      "MaxPooling3D\n",
      "Maximum\n",
      "MaxoutDense\n",
      "Minimum\n",
      "Multiply\n",
      "PReLU\n",
      "Permute\n",
      "RNN\n",
      "ReLU\n",
      "Recurrent\n",
      "RepeatVector\n",
      "Reshape\n",
      "SeparableConv1D\n",
      "SeparableConv2D\n",
      "SeparableConvolution1D\n",
      "SeparableConvolution2D\n",
      "SimpleRNN\n",
      "SimpleRNNCell\n",
      "Softmax\n",
      "SpatialDropout1D\n",
      "SpatialDropout2D\n",
      "SpatialDropout3D\n",
      "StackedRNNCells\n",
      "Subtract\n",
      "ThresholdedReLU\n",
      "TimeDistributed\n",
      "UpSampling1D\n",
      "UpSampling2D\n",
      "UpSampling3D\n",
      "Wrapper\n",
      "ZeroPadding1D\n",
      "ZeroPadding2D\n",
      "ZeroPadding3D\n"
     ]
    }
   ],
   "source": [
    "[print(x) for x in dir(keras.layers) if x[0].isupper()];"
   ]
  },
  {
   "cell_type": "markdown",
   "metadata": {},
   "source": [
    "### Activations"
   ]
  },
  {
   "cell_type": "markdown",
   "metadata": {},
   "source": [
    "`keras.activations.*`"
   ]
  },
  {
   "cell_type": "code",
   "execution_count": 3,
   "metadata": {},
   "outputs": [
    {
     "name": "stdout",
     "output_type": "stream",
     "text": [
      "absolute_import\n",
      "deserialize\n",
      "deserialize_keras_object\n",
      "division\n",
      "elu\n",
      "get\n",
      "hard_sigmoid\n",
      "linear\n",
      "print_function\n",
      "relu\n",
      "selu\n",
      "serialize\n",
      "sigmoid\n",
      "six\n",
      "softmax\n",
      "softplus\n",
      "softsign\n",
      "tanh\n",
      "warnings\n"
     ]
    }
   ],
   "source": [
    "[print(x) for x in dir(keras.activations) if x[0].islower()];"
   ]
  },
  {
   "cell_type": "markdown",
   "metadata": {},
   "source": [
    "### Optimizers"
   ]
  },
  {
   "cell_type": "markdown",
   "metadata": {},
   "source": [
    "`keras.optimizers.*`"
   ]
  },
  {
   "cell_type": "code",
   "execution_count": 4,
   "metadata": {
    "scrolled": true
   },
   "outputs": [
    {
     "name": "stdout",
     "output_type": "stream",
     "text": [
      "Adadelta\n",
      "Adagrad\n",
      "Adam\n",
      "Adamax\n",
      "K\n",
      "Nadam\n",
      "Optimizer\n",
      "RMSprop\n",
      "SGD\n",
      "TFOptimizer\n"
     ]
    }
   ],
   "source": [
    "[print(x) for x in dir(keras.optimizers) if x[0].isupper()];"
   ]
  },
  {
   "cell_type": "markdown",
   "metadata": {},
   "source": [
    "### Criterions"
   ]
  },
  {
   "cell_type": "markdown",
   "metadata": {},
   "source": [
    "`keras.losses.*`"
   ]
  },
  {
   "cell_type": "code",
   "execution_count": 5,
   "metadata": {},
   "outputs": [
    {
     "name": "stdout",
     "output_type": "stream",
     "text": [
      "absolute_import\n",
      "binary_crossentropy\n",
      "categorical_crossentropy\n",
      "categorical_hinge\n",
      "cosine\n",
      "cosine_proximity\n",
      "deserialize\n",
      "deserialize_keras_object\n",
      "division\n",
      "get\n",
      "hinge\n",
      "kld\n",
      "kullback_leibler_divergence\n",
      "logcosh\n",
      "mae\n",
      "mape\n",
      "mean_absolute_error\n",
      "mean_absolute_percentage_error\n",
      "mean_squared_error\n",
      "mean_squared_logarithmic_error\n",
      "mse\n",
      "msle\n",
      "poisson\n",
      "print_function\n",
      "serialize\n",
      "serialize_keras_object\n",
      "six\n",
      "sparse_categorical_crossentropy\n",
      "squared_hinge\n"
     ]
    }
   ],
   "source": [
    "[print(x) for x in dir(keras.losses) if x[0].islower()];"
   ]
  },
  {
   "cell_type": "markdown",
   "metadata": {},
   "source": [
    "#### See more [keras.io](https://keras.io/)"
   ]
  },
  {
   "cell_type": "markdown",
   "metadata": {},
   "source": [
    "## MNIST classifier example"
   ]
  },
  {
   "cell_type": "code",
   "execution_count": 38,
   "metadata": {},
   "outputs": [],
   "source": [
    "import keras\n",
    "from keras.models import Sequential\n",
    "from keras.layers import Dense, Flatten, Convolution2D, MaxPooling2D, Dropout, AveragePooling2D, Activation\n",
    "from keras.optimizers import RMSprop, Adam\n",
    "from keras.datasets import mnist\n",
    "import numpy as np\n",
    "import matplotlib.pyplot as plt"
   ]
  },
  {
   "cell_type": "code",
   "execution_count": null,
   "metadata": {},
   "outputs": [],
   "source": []
  },
  {
   "cell_type": "code",
   "execution_count": 39,
   "metadata": {},
   "outputs": [
    {
     "name": "stdout",
     "output_type": "stream",
     "text": [
      "X_train original shape: (60000, 28, 28)\n",
      "X_train original shape: (60000,)\n"
     ]
    }
   ],
   "source": [
    "(X_train, y_train), (X_test, y_test) = mnist.load_data()\n",
    "print('X_train original shape:', X_train.shape)\n",
    "print('X_train original shape:', y_train.shape)"
   ]
  },
  {
   "cell_type": "code",
   "execution_count": null,
   "metadata": {},
   "outputs": [],
   "source": []
  },
  {
   "cell_type": "code",
   "execution_count": 40,
   "metadata": {},
   "outputs": [
    {
     "name": "stdout",
     "output_type": "stream",
     "text": [
      "X_train shape: (60000, 28, 28)\n",
      "y_train shape: (60000, 10)\n",
      "60000 train samples\n",
      "10000 test samples\n"
     ]
    }
   ],
   "source": [
    "X_train = X_train.astype('float32') / 255.\n",
    "X_test = X_test.astype('float32') / 255.\n",
    "Y_train = keras.utils.to_categorical(y_train, 10)\n",
    "Y_test = keras.utils.to_categorical(y_test, 10)\n",
    "\n",
    "print('X_train shape:', X_train.shape)\n",
    "print('y_train shape:', Y_train.shape)\n",
    "\n",
    "print(X_train.shape[0], 'train samples')\n",
    "print(X_test.shape[0], 'test samples')"
   ]
  },
  {
   "cell_type": "code",
   "execution_count": null,
   "metadata": {
    "scrolled": false
   },
   "outputs": [],
   "source": []
  },
  {
   "cell_type": "code",
   "execution_count": null,
   "metadata": {},
   "outputs": [],
   "source": []
  },
  {
   "cell_type": "code",
   "execution_count": 41,
   "metadata": {},
   "outputs": [
    {
     "data": {
      "text/plain": [
       "60000"
      ]
     },
     "execution_count": 41,
     "metadata": {},
     "output_type": "execute_result"
    }
   ],
   "source": [
    "Y_train.shape[0]"
   ]
  },
  {
   "cell_type": "code",
   "execution_count": 42,
   "metadata": {},
   "outputs": [],
   "source": [
    "# For TensorFlow backend\n",
    "X_train = X_train.reshape(X_train.shape[0], 28, 28, 1)\n",
    "X_test = X_test.reshape(X_test.shape[0], 28, 28, 1)\n",
    "input_shape = (28, 28, 1)"
   ]
  },
  {
   "cell_type": "code",
   "execution_count": 76,
   "metadata": {},
   "outputs": [
    {
     "ename": "ValueError",
     "evalue": "This model has never been called, this its weights have not yet been created, so no summary can be displayed. Build the model first (e.g. by calling it on some test data).",
     "output_type": "error",
     "traceback": [
      "\u001b[0;31m---------------------------------------------------------------------------\u001b[0m",
      "\u001b[0;31mValueError\u001b[0m                                Traceback (most recent call last)",
      "\u001b[0;32m<ipython-input-76-88d2f2ecd168>\u001b[0m in \u001b[0;36m<module>\u001b[0;34m()\u001b[0m\n\u001b[1;32m     29\u001b[0m \u001b[0mopt\u001b[0m \u001b[0;34m=\u001b[0m \u001b[0mAdam\u001b[0m\u001b[0;34m(\u001b[0m\u001b[0mlr\u001b[0m\u001b[0;34m=\u001b[0m\u001b[0;36m0.001\u001b[0m\u001b[0;34m)\u001b[0m\u001b[0;34m\u001b[0m\u001b[0m\n\u001b[1;32m     30\u001b[0m \u001b[0mmodel\u001b[0m\u001b[0;34m.\u001b[0m\u001b[0mcompile\u001b[0m\u001b[0;34m(\u001b[0m\u001b[0moptimizer\u001b[0m\u001b[0;34m=\u001b[0m\u001b[0mopt\u001b[0m\u001b[0;34m,\u001b[0m \u001b[0mloss\u001b[0m\u001b[0;34m=\u001b[0m\u001b[0;34m'categorical_crossentropy'\u001b[0m\u001b[0;34m,\u001b[0m \u001b[0mmetrics\u001b[0m\u001b[0;34m=\u001b[0m\u001b[0;34m[\u001b[0m\u001b[0;34m'accuracy'\u001b[0m\u001b[0;34m]\u001b[0m\u001b[0;34m)\u001b[0m\u001b[0;34m\u001b[0m\u001b[0m\n\u001b[0;32m---> 31\u001b[0;31m \u001b[0mmodel\u001b[0m\u001b[0;34m.\u001b[0m\u001b[0msummary\u001b[0m\u001b[0;34m(\u001b[0m\u001b[0;34m)\u001b[0m\u001b[0;34m\u001b[0m\u001b[0m\n\u001b[0m",
      "\u001b[0;32m~/.local/lib/python3.6/site-packages/keras/engine/network.py\u001b[0m in \u001b[0;36msummary\u001b[0;34m(self, line_length, positions, print_fn)\u001b[0m\n\u001b[1;32m   1261\u001b[0m         \u001b[0;32mif\u001b[0m \u001b[0;32mnot\u001b[0m \u001b[0mself\u001b[0m\u001b[0;34m.\u001b[0m\u001b[0mbuilt\u001b[0m\u001b[0;34m:\u001b[0m\u001b[0;34m\u001b[0m\u001b[0m\n\u001b[1;32m   1262\u001b[0m             raise ValueError(\n\u001b[0;32m-> 1263\u001b[0;31m                 \u001b[0;34m'This model has never been called, this its weights '\u001b[0m\u001b[0;34m\u001b[0m\u001b[0m\n\u001b[0m\u001b[1;32m   1264\u001b[0m                 \u001b[0;34m'have not yet been created, so no summary can be displayed. '\u001b[0m\u001b[0;34m\u001b[0m\u001b[0m\n\u001b[1;32m   1265\u001b[0m                 \u001b[0;34m'Build the model first '\u001b[0m\u001b[0;34m\u001b[0m\u001b[0m\n",
      "\u001b[0;31mValueError\u001b[0m: This model has never been called, this its weights have not yet been created, so no summary can be displayed. Build the model first (e.g. by calling it on some test data)."
     ]
    }
   ],
   "source": [
    "# Convolutional model\n",
    "model = Sequential()\n",
    "\n",
    "# conv layer\n",
    "model.add(Activation('tanh'))\n",
    "model.add(Convolution2D(64, (3, 5), strides=1, padding='same', activation='relu', \n",
    "                        input_shape=input_shape))\n",
    "model.add(MaxPooling2D(pool_size=(2, 2), strides=(2, 2), padding='same'))\n",
    "\n",
    "model.add(Convolution2D(128, (3, 3), strides=1, padding='same', activation='relu'))\n",
    "model.add(MaxPooling2D(pool_size=2, strides=2, padding='same'))\n",
    "model.add(Dropout(0.2))\n",
    "\n",
    "model.add(Convolution2D(256, (3, 3), strides=2, padding='same', activation='relu'))\n",
    "model.add(MaxPooling2D(pool_size=2, strides=2, padding='same'))\n",
    "model.add(Dropout(0.3))\n",
    "\n",
    "model.add(Flatten())\n",
    "\n",
    "model.add(Dense(512, activation='relu'))\n",
    "model.add(Dropout(0.5))\n",
    "\n",
    "# model.add(Dense(128, activation='relu'))\n",
    "\n",
    "model.add(Dense(32, activation='relu', bias_regularizer = keras.regularizers.l1()))\n",
    "\n",
    "model.add(Dense(10, activation='softmax'))\n",
    "\n",
    "opt = Adam(lr=0.001)\n",
    "model.compile(optimizer=opt, loss='categorical_crossentropy', metrics=['accuracy'])\n",
    "model.summary()"
   ]
  },
  {
   "cell_type": "code",
   "execution_count": 77,
   "metadata": {},
   "outputs": [
    {
     "name": "stdout",
     "output_type": "stream",
     "text": [
      "\r",
      "1/1 [==============================] - 0s 303ms/step\n"
     ]
    },
    {
     "data": {
      "text/plain": [
       "[2.311300277709961, 0.0]"
      ]
     },
     "execution_count": 77,
     "metadata": {},
     "output_type": "execute_result"
    }
   ],
   "source": [
    "model.evaluate(X_train[0:1], Y_train[0:1])"
   ]
  },
  {
   "cell_type": "code",
   "execution_count": 78,
   "metadata": {},
   "outputs": [
    {
     "name": "stdout",
     "output_type": "stream",
     "text": [
      "_________________________________________________________________\n",
      "Layer (type)                 Output Shape              Param #   \n",
      "=================================================================\n",
      "activation_14 (Activation)   (None, 28, 28, 1)         0         \n",
      "_________________________________________________________________\n",
      "conv2d_40 (Conv2D)           (None, 28, 28, 64)        1024      \n",
      "_________________________________________________________________\n",
      "max_pooling2d_40 (MaxPooling (None, 14, 14, 64)        0         \n",
      "_________________________________________________________________\n",
      "conv2d_41 (Conv2D)           (None, 14, 14, 128)       73856     \n",
      "_________________________________________________________________\n",
      "max_pooling2d_41 (MaxPooling (None, 7, 7, 128)         0         \n",
      "_________________________________________________________________\n",
      "dropout_54 (Dropout)         (None, 7, 7, 128)         0         \n",
      "_________________________________________________________________\n",
      "conv2d_42 (Conv2D)           (None, 4, 4, 256)         295168    \n",
      "_________________________________________________________________\n",
      "max_pooling2d_42 (MaxPooling (None, 2, 2, 256)         0         \n",
      "_________________________________________________________________\n",
      "dropout_55 (Dropout)         (None, 2, 2, 256)         0         \n",
      "_________________________________________________________________\n",
      "flatten_14 (Flatten)         (None, 1024)              0         \n",
      "_________________________________________________________________\n",
      "dense_50 (Dense)             (None, 512)               524800    \n",
      "_________________________________________________________________\n",
      "dropout_56 (Dropout)         (None, 512)               0         \n",
      "_________________________________________________________________\n",
      "dense_51 (Dense)             (None, 32)                16416     \n",
      "_________________________________________________________________\n",
      "dense_52 (Dense)             (None, 10)                330       \n",
      "=================================================================\n",
      "Total params: 911,594\n",
      "Trainable params: 911,594\n",
      "Non-trainable params: 0\n",
      "_________________________________________________________________\n"
     ]
    }
   ],
   "source": [
    "model.summary()"
   ]
  },
  {
   "cell_type": "code",
   "execution_count": 154,
   "metadata": {
    "scrolled": false
   },
   "outputs": [],
   "source": [
    "# Train\n",
    "# import time\n",
    "# bs = 16\n",
    "# bs = [32, 64, 128, 256, 256, 512, 1024, 1500, 3000, 6000, 9000, 9000]\n",
    "# i = 0\n",
    "# print(len(bs))\n",
    "# for BS in bs:\n",
    "#     print(i, 'started')\n",
    "#     i += 1\n",
    "#     model.fit(X_train, Y_train, epochs=1, batch_size=BS,\n",
    "#                     shuffle=True, verbose=1)"
   ]
  },
  {
   "cell_type": "code",
   "execution_count": 79,
   "metadata": {},
   "outputs": [
    {
     "name": "stdout",
     "output_type": "stream",
     "text": [
      "Epoch 1/1\n",
      "1/1 [==============================] - 1s 551ms/step - loss: 2.3198 - acc: 0.0000e+00\n"
     ]
    },
    {
     "data": {
      "text/plain": [
       "<keras.engine.sequential.Sequential at 0x7fda57d31da0>"
      ]
     },
     "execution_count": 79,
     "metadata": {},
     "output_type": "execute_result"
    }
   ],
   "source": [
    "model.fit(X_train[0:1], Y_train[0:1], epochs=1)\n",
    "model"
   ]
  },
  {
   "cell_type": "code",
   "execution_count": 80,
   "metadata": {},
   "outputs": [
    {
     "name": "stdout",
     "output_type": "stream",
     "text": [
      "Epoch 1/2\n",
      "60000/60000 [==============================] - 237s 4ms/step - loss: 0.2029 - acc: 0.9372\n",
      "Epoch 2/2\n",
      "60000/60000 [==============================] - 237s 4ms/step - loss: 0.0868 - acc: 0.9760\n"
     ]
    },
    {
     "data": {
      "text/plain": [
       "<keras.callbacks.History at 0x7fda57baeba8>"
      ]
     },
     "execution_count": 80,
     "metadata": {},
     "output_type": "execute_result"
    }
   ],
   "source": [
    "model.fit(X_train, Y_train, epochs=2, batch_size=10, shuffle=True, verbose=1)"
   ]
  },
  {
   "cell_type": "code",
   "execution_count": 81,
   "metadata": {},
   "outputs": [
    {
     "name": "stdout",
     "output_type": "stream",
     "text": [
      "Epoch 1/2\n",
      "60000/60000 [==============================] - 175s 3ms/step - loss: 0.0419 - acc: 0.9878\n",
      "Epoch 2/2\n",
      "60000/60000 [==============================] - 177s 3ms/step - loss: 0.0310 - acc: 0.9913\n"
     ]
    },
    {
     "data": {
      "text/plain": [
       "<keras.callbacks.History at 0x7fda57d21e10>"
      ]
     },
     "execution_count": 81,
     "metadata": {},
     "output_type": "execute_result"
    }
   ],
   "source": [
    "model.fit(X_train, Y_train, epochs=2, batch_size=100, shuffle=True, verbose=1)"
   ]
  },
  {
   "cell_type": "code",
   "execution_count": 82,
   "metadata": {},
   "outputs": [
    {
     "name": "stdout",
     "output_type": "stream",
     "text": [
      "Epoch 1/4\n",
      "60000/60000 [==============================] - 171s 3ms/step - loss: 0.0242 - acc: 0.9928\n",
      "Epoch 2/4\n",
      "60000/60000 [==============================] - 174s 3ms/step - loss: 0.0221 - acc: 0.9933\n",
      "Epoch 3/4\n",
      "60000/60000 [==============================] - 172s 3ms/step - loss: 0.0196 - acc: 0.9940\n",
      "Epoch 4/4\n",
      "60000/60000 [==============================] - 172s 3ms/step - loss: 0.0186 - acc: 0.9943\n"
     ]
    },
    {
     "data": {
      "text/plain": [
       "<keras.callbacks.History at 0x7fda57bae9b0>"
      ]
     },
     "execution_count": 82,
     "metadata": {},
     "output_type": "execute_result"
    }
   ],
   "source": [
    "model.fit(X_train, Y_train, epochs=4, batch_size=300, shuffle=True, verbose=1)"
   ]
  },
  {
   "cell_type": "code",
   "execution_count": 89,
   "metadata": {},
   "outputs": [
    {
     "name": "stdout",
     "output_type": "stream",
     "text": [
      "Epoch 1/6\n",
      "60000/60000 [==============================] - 176s 3ms/step - loss: 0.0158 - acc: 0.9951\n",
      "Epoch 2/6\n",
      "60000/60000 [==============================] - 177s 3ms/step - loss: 0.0162 - acc: 0.9952\n",
      "Epoch 3/6\n",
      "60000/60000 [==============================] - 174s 3ms/step - loss: 0.0155 - acc: 0.9956\n",
      "Epoch 4/6\n",
      "60000/60000 [==============================] - 174s 3ms/step - loss: 0.0153 - acc: 0.9953\n",
      "Epoch 5/6\n",
      "60000/60000 [==============================] - 174s 3ms/step - loss: 0.0166 - acc: 0.9951\n",
      "Epoch 6/6\n",
      "60000/60000 [==============================] - 174s 3ms/step - loss: 0.0153 - acc: 0.9950\n"
     ]
    },
    {
     "data": {
      "text/plain": [
       "<keras.callbacks.History at 0x7fd7eb156e80>"
      ]
     },
     "execution_count": 89,
     "metadata": {},
     "output_type": "execute_result"
    }
   ],
   "source": [
    "model.fit(X_train, Y_train, epochs=6, batch_size=1200, shuffle=True, verbose=1)"
   ]
  },
  {
   "cell_type": "code",
   "execution_count": 91,
   "metadata": {},
   "outputs": [
    {
     "name": "stdout",
     "output_type": "stream",
     "text": [
      "Epoch 1/2\n",
      "60000/60000 [==============================] - 178s 3ms/step - loss: 0.0137 - acc: 0.9961\n",
      "Epoch 2/2\n",
      "60000/60000 [==============================] - 184s 3ms/step - loss: 0.0128 - acc: 0.9960\n"
     ]
    },
    {
     "data": {
      "text/plain": [
       "<keras.callbacks.History at 0x7fd7eb156fd0>"
      ]
     },
     "execution_count": 91,
     "metadata": {},
     "output_type": "execute_result"
    }
   ],
   "source": [
    "model.fit(X_train, Y_train, epochs=2, batch_size=2400, shuffle=True, verbose=1)"
   ]
  },
  {
   "cell_type": "code",
   "execution_count": 93,
   "metadata": {},
   "outputs": [
    {
     "name": "stdout",
     "output_type": "stream",
     "text": [
      "Epoch 1/2\n",
      "60000/60000 [==============================] - 176s 3ms/step - loss: 0.0130 - acc: 0.9961\n",
      "Epoch 2/2\n",
      "60000/60000 [==============================] - 179s 3ms/step - loss: 0.0129 - acc: 0.9961\n"
     ]
    },
    {
     "data": {
      "text/plain": [
       "<keras.callbacks.History at 0x7fd7eb156400>"
      ]
     },
     "execution_count": 93,
     "metadata": {},
     "output_type": "execute_result"
    }
   ],
   "source": [
    "model.fit(X_train, Y_train, epochs=2, batch_size=6000, shuffle=True, verbose=1)"
   ]
  },
  {
   "cell_type": "code",
   "execution_count": 95,
   "metadata": {},
   "outputs": [
    {
     "name": "stdout",
     "output_type": "stream",
     "text": [
      "Epoch 1/2\n",
      "60000/60000 [==============================] - 198s 3ms/step - loss: 0.0128 - acc: 0.9961\n",
      "Epoch 2/2\n",
      "60000/60000 [==============================] - 188s 3ms/step - loss: 0.0129 - acc: 0.9961\n"
     ]
    },
    {
     "data": {
      "text/plain": [
       "<keras.callbacks.History at 0x7fda58a04438>"
      ]
     },
     "execution_count": 95,
     "metadata": {},
     "output_type": "execute_result"
    }
   ],
   "source": [
    "model.fit(X_train, Y_train, epochs=2, batch_size=15000, shuffle=True, verbose=1)"
   ]
  },
  {
   "cell_type": "markdown",
   "metadata": {},
   "source": []
  },
  {
   "cell_type": "code",
   "execution_count": 96,
   "metadata": {},
   "outputs": [
    {
     "name": "stdout",
     "output_type": "stream",
     "text": [
      "10000/10000 [==============================] - 8s 841us/step\n",
      "Summary: Loss over the test dataset: 0.02, Accuracy: %99.530000\n"
     ]
    }
   ],
   "source": [
    "# Evaluate\n",
    "evaluation = model.evaluate(X_test, Y_test, batch_size=200, verbose=1)\n",
    "print('Summary: Loss over the test dataset: %.2f, Accuracy: %.2%%f' % (evaluation[0], evaluation[1]*100))"
   ]
  }
 ],
 "metadata": {
  "kernelspec": {
   "display_name": "Python 3",
   "language": "python",
   "name": "python3"
  },
  "language_info": {
   "codemirror_mode": {
    "name": "ipython",
    "version": 3
   },
   "file_extension": ".py",
   "mimetype": "text/x-python",
   "name": "python",
   "nbconvert_exporter": "python",
   "pygments_lexer": "ipython3",
   "version": "3.6.5"
  }
 },
 "nbformat": 4,
 "nbformat_minor": 2
}
